{
 "cells": [
  {
   "cell_type": "code",
   "execution_count": 34,
   "metadata": {},
   "outputs": [
    {
     "ename": "SyntaxError",
     "evalue": "invalid syntax (<ipython-input-34-7450a39fbd27>, line 52)",
     "output_type": "error",
     "traceback": [
      "\u001b[1;36m  File \u001b[1;32m\"<ipython-input-34-7450a39fbd27>\"\u001b[1;36m, line \u001b[1;32m52\u001b[0m\n\u001b[1;33m    'Employer' :i[1]\u001b[0m\n\u001b[1;37m             ^\u001b[0m\n\u001b[1;31mSyntaxError\u001b[0m\u001b[1;31m:\u001b[0m invalid syntax\n"
     ]
    }
   ],
   "source": [
    "from numpy import genfromtxt\n",
    "from time import time\n",
    "from datetime import datetime\n",
    "from sqlalchemy import Column, Integer, Float, Date, String, VARCHAR\n",
    "from sqlalchemy.ext.declarative import declarative_base\n",
    "from sqlalchemy import create_engine\n",
    "from sqlalchemy.orm import sessionmaker\n",
    "import sqllite3\n",
    "URL = \"https://archive.ics.uci.edu/ml/machine-learning-databases/adult/adult.data\"\n",
    "def Load_Data(URL):\n",
    "    data = genfromtxt(URL, delimiter=',')# skiprows=1, converters={0: lambda s: str(s)})\n",
    "    return data.tolist()\n",
    "\n",
    "Base = declarative_base()\n",
    "\n",
    "class cdb1(Base):\n",
    "    #Tell SQLAlchemy what the table name\n",
    "    __tablename__ = 'Adult.Data'\n",
    "    __table_args__ = {'sqlite_autoincrement': True}\n",
    "    #tell SQLAlchemy the name of column and its attributes:\n",
    "    Age = Column(Integer) \n",
    "    Employer = Column(VARCHAR)\n",
    "    Id = Column(Integer, primary_key = True)\n",
    "    Education = Column(VARCHAR)\n",
    "    Experience = Column(Integer)\n",
    "    Marital_Status = Column(Integer)\n",
    "    Job_Role = Column(VARCHAR)\n",
    "    Family_Status = Column(VARCHAR)\n",
    "    Race = Column(VARCHAR)\n",
    "    Gender = Column(VARCHAR)\n",
    "    Pay1 = Column(VARCHAR)\n",
    "    Pay2 = Column(VARCHAR)\n",
    "    Hours_worked = Column(VARCHAR)\n",
    "    Country = Column(VARCHAR)\n",
    "    Salary_Range = Column(VARCHAR)\n",
    "\n",
    "    #Create the database\n",
    "    engine = create_engine('sqlite:///Adult.Data.db')\n",
    "    Base.metadata.create_all(Adult.Data)\n",
    "\n",
    "    #Create the session\n",
    "    session = sessionmaker()\n",
    "    session.configure(bind=Adult.Data)\n",
    "    s = session()\n",
    "\n",
    "    try:\n",
    "        data = Load_Data(URL)\n",
    "\n",
    "        for i in data:\n",
    "            record = cdb1(**{\n",
    "                'Age' :i[0]\n",
    "                'Employer' :i[1]\n",
    "                'Id' :i[2]\n",
    "                'Education' :i[3]\n",
    "                'Experience' :i[4]\n",
    "                'Marital_Status' :i[5]\n",
    "                'Job_Role' :i[6]\n",
    "                'Family_Status' :i[7]\n",
    "                'Race' :i[8]\n",
    "                'Gender' :i[9]\n",
    "                'Pay1' :i[10]\n",
    "                'Pay2' :i[11]\n",
    "                'Hours_worked' :i[12]\n",
    "                'Country' :i[13]\n",
    "                'Salary_Range' i[14]\n",
    "            })\n",
    "            s.add(record) #Add all the records\n",
    "\n",
    "        s.commit() #Attempt to commit all the records\n",
    "    except:\n",
    "        s.rollback() #Rollback the changes on error\n",
    "        print 'error in reading'\n",
    "    finally:\n",
    "        s.close() #Close the connection"
   ]
  },
  {
   "cell_type": "code",
   "execution_count": 32,
   "metadata": {},
   "outputs": [
    {
     "ename": "NameError",
     "evalue": "name 'sqlalchemy' is not defined",
     "output_type": "error",
     "traceback": [
      "\u001b[1;31m---------------------------------------------------------------------------\u001b[0m",
      "\u001b[1;31mNameError\u001b[0m                                 Traceback (most recent call last)",
      "\u001b[1;32m<ipython-input-32-cdadcb2a73a8>\u001b[0m in \u001b[0;36m<module>\u001b[1;34m()\u001b[0m\n\u001b[0;32m      7\u001b[0m \u001b[1;32mfrom\u001b[0m \u001b[0msqlalchemy\u001b[0m\u001b[1;33m.\u001b[0m\u001b[0morm\u001b[0m \u001b[1;32mimport\u001b[0m \u001b[0msessionmaker\u001b[0m\u001b[1;33m\u001b[0m\u001b[0m\n\u001b[0;32m      8\u001b[0m \u001b[1;33m\u001b[0m\u001b[0m\n\u001b[1;32m----> 9\u001b[1;33m \u001b[0mtable\u001b[0m \u001b[1;33m=\u001b[0m \u001b[0msqlalchemy\u001b[0m\u001b[1;33m.\u001b[0m\u001b[0mTable\u001b[0m\u001b[1;33m(\u001b[0m\u001b[1;34m'Adult.Data'\u001b[0m\u001b[1;33m)\u001b[0m\u001b[1;33m\u001b[0m\u001b[0m\n\u001b[0m\u001b[0;32m     10\u001b[0m \u001b[0mupd\u001b[0m \u001b[1;33m=\u001b[0m \u001b[0mtable\u001b[0m\u001b[1;33m.\u001b[0m\u001b[0mupdate\u001b[0m\u001b[1;33m(\u001b[0m\u001b[0mvalues\u001b[0m\u001b[1;33m=\u001b[0m\u001b[1;33m{\u001b[0m\u001b[1;34m'34'\u001b[0m\u001b[1;33m,\u001b[0m\u001b[1;34m'private'\u001b[0m\u001b[1;33m,\u001b[0m\u001b[1;34m'546785'\u001b[0m\u001b[1;33m,\u001b[0m\u001b[1;34m'HS-grad'\u001b[0m\u001b[1;33m,\u001b[0m\u001b[1;34m'4'\u001b[0m\u001b[1;33m,\u001b[0m\u001b[1;34m'Never-married'\u001b[0m\u001b[1;33m,\u001b[0m\u001b[1;34m'sales'\u001b[0m\u001b[1;33m,\u001b[0m\u001b[1;34m'Unmarried'\u001b[0m\u001b[1;33m,\u001b[0m\u001b[1;34m'Amer-Indian'\u001b[0m\u001b[1;33m,\u001b[0m\u001b[1;34m'Female'\u001b[0m\u001b[1;33m,\u001b[0m\u001b[1;34m'2304'\u001b[0m\u001b[1;33m,\u001b[0m\u001b[1;34m'0'\u001b[0m\u001b[1;33m,\u001b[0m\u001b[1;34m'45'\u001b[0m\u001b[1;33m,\u001b[0m\u001b[1;34m'United-States'\u001b[0m\u001b[1;33m,\u001b[0m\u001b[1;34m'<=50k'\u001b[0m\u001b[1;33m}\u001b[0m\u001b[1;33m)\u001b[0m\u001b[1;33m\u001b[0m\u001b[0m\n\u001b[0;32m     11\u001b[0m \u001b[0mengine\u001b[0m\u001b[1;33m.\u001b[0m\u001b[0mexecute\u001b[0m\u001b[1;33m(\u001b[0m\u001b[0mupd\u001b[0m\u001b[1;33m)\u001b[0m\u001b[1;33m\u001b[0m\u001b[0m\n",
      "\u001b[1;31mNameError\u001b[0m: name 'sqlalchemy' is not defined"
     ]
    }
   ],
   "source": [
    "from numpy import genfromtxt\n",
    "from time import time\n",
    "from datetime import datetime\n",
    "from sqlalchemy import Column, Integer, Float, Date, String, VARCHAR\n",
    "from sqlalchemy.ext.declarative import declarative_base\n",
    "from sqlalchemy import create_engine\n",
    "from sqlalchemy.orm import sessionmaker\n",
    "\n",
    "table = sqlalchemy.Table('Adult.Data')\n",
    "upd = table.update(values={'34','private','546785','HS-grad','4','Never-married','sales','Unmarried','Amer-Indian','Female','2304','0','45','United-States','<=50k'})\n",
    "engine.execute(upd)"
   ]
  },
  {
   "cell_type": "code",
   "execution_count": 35,
   "metadata": {},
   "outputs": [
    {
     "ename": "NameError",
     "evalue": "name 'sqlite3' is not defined",
     "output_type": "error",
     "traceback": [
      "\u001b[1;31m---------------------------------------------------------------------------\u001b[0m",
      "\u001b[1;31mNameError\u001b[0m                                 Traceback (most recent call last)",
      "\u001b[1;32m<ipython-input-35-bde59ac8da0b>\u001b[0m in \u001b[0;36m<module>\u001b[1;34m()\u001b[0m\n\u001b[1;32m----> 1\u001b[1;33m \u001b[0mconn\u001b[0m \u001b[1;33m=\u001b[0m \u001b[0msqlite3\u001b[0m\u001b[1;33m.\u001b[0m\u001b[0mconnect\u001b[0m\u001b[1;33m(\u001b[0m\u001b[1;34m'Adult.Data.db'\u001b[0m\u001b[1;33m)\u001b[0m\u001b[1;33m\u001b[0m\u001b[0m\n\u001b[0m\u001b[0;32m      2\u001b[0m \u001b[0mc\u001b[0m \u001b[1;33m=\u001b[0m \u001b[0mconn\u001b[0m\u001b[1;33m.\u001b[0m\u001b[0mcursor\u001b[0m\u001b[1;33m(\u001b[0m\u001b[1;33m)\u001b[0m\u001b[1;33m\u001b[0m\u001b[0m\n\u001b[0;32m      3\u001b[0m \u001b[0mdata3\u001b[0m \u001b[1;33m=\u001b[0m \u001b[0mstr\u001b[0m\u001b[1;33m(\u001b[0m\u001b[0minput\u001b[0m\u001b[1;33m(\u001b[0m\u001b[1;34m'Please enter ID: '\u001b[0m\u001b[1;33m)\u001b[0m\u001b[1;33m)\u001b[0m\u001b[1;33m\u001b[0m\u001b[0m\n\u001b[0;32m      4\u001b[0m \u001b[0mmydata\u001b[0m \u001b[1;33m=\u001b[0m \u001b[0mc\u001b[0m\u001b[1;33m.\u001b[0m\u001b[0mexecute\u001b[0m\u001b[1;33m(\u001b[0m\u001b[1;34m'DELETE FROM Adult.data WHERE Data=?'\u001b[0m\u001b[1;33m,\u001b[0m \u001b[1;33m(\u001b[0m\u001b[0mdata3\u001b[0m\u001b[1;33m,\u001b[0m\u001b[1;33m)\u001b[0m\u001b[1;33m)\u001b[0m\u001b[1;33m\u001b[0m\u001b[0m\n\u001b[0;32m      5\u001b[0m \u001b[0mconn\u001b[0m\u001b[1;33m.\u001b[0m\u001b[0mcommit\u001b[0m\u001b[1;33m(\u001b[0m\u001b[1;33m)\u001b[0m\u001b[1;33m\u001b[0m\u001b[0m\n",
      "\u001b[1;31mNameError\u001b[0m: name 'sqlite3' is not defined"
     ]
    }
   ],
   "source": [
    "conn = sqlite3.connect('Adult.Data.db')\n",
    "c = conn.cursor()\n",
    "data3 = str(input('Please enter ID: '))\n",
    "mydata = c.execute('DELETE FROM Adult.data WHERE Data=?', (data3,))\n",
    "conn.commit()\n",
    "c.close"
   ]
  }
 ],
 "metadata": {
  "kernelspec": {
   "display_name": "Python 3",
   "language": "python",
   "name": "python3"
  },
  "language_info": {
   "codemirror_mode": {
    "name": "ipython",
    "version": 3
   },
   "file_extension": ".py",
   "mimetype": "text/x-python",
   "name": "python",
   "nbconvert_exporter": "python",
   "pygments_lexer": "ipython3",
   "version": "3.6.5"
  }
 },
 "nbformat": 4,
 "nbformat_minor": 2
}
